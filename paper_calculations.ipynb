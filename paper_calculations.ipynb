{
 "cells": [
  {
   "cell_type": "code",
   "execution_count": 1,
   "metadata": {},
   "outputs": [],
   "source": [
    "# Setup imports\n",
    "import os\n",
    "import sys\n",
    "\n",
    "# Fix paths\n",
    "sys.path.append('../')\n",
    "\n",
    "# Run django init\n",
    "import django\n",
    "django.setup()\n",
    "\n",
    "from django.db import connection"
   ]
  },
  {
   "cell_type": "code",
   "execution_count": 2,
   "metadata": {},
   "outputs": [],
   "source": [
    "# Packages\n",
    "import pandas as pd\n",
    "import numpy as np\n",
    "\n",
    "# Model imports\n",
    "from ossld.models import (PyPiClassification, PyPiPackage, PyPiPackageClassification, PyPiPackageInfo,\n",
    "                          PyPiPackageRelease, PyPiPackageReleaseImport, License, )"
   ]
  },
  {
   "cell_type": "markdown",
   "metadata": {},
   "source": [
    "## Table 1: Total counts for all primary data model objects reported in paper"
   ]
  },
  {
   "cell_type": "code",
   "execution_count": 3,
   "metadata": {},
   "outputs": [
    {
     "name": "stdout",
     "output_type": "stream",
     "text": [
      "Number of packages: 178952\n",
      "Number of releases: 1745744\n",
      "Number of classifications assigned: 947896\n",
      "Number of authors: 76997\n",
      "Number of maintainers: 3047\n",
      "Number of licenses (raw): 4610\n",
      "Number of imports: 156816750\n"
     ]
    }
   ],
   "source": [
    "package_count = PyPiPackage.objects.count()\n",
    "print(\"Number of packages:\", package_count)\n",
    "\n",
    "release_count = PyPiPackageRelease.objects.count()\n",
    "print(\"Number of releases:\", release_count)\n",
    "\n",
    "classification_count = PyPiPackageClassification.objects.count()\n",
    "print(\"Number of classifications assigned:\", classification_count)\n",
    "\n",
    "author_count = PyPiPackageInfo.objects.values('author').distinct().count()\n",
    "print(\"Number of authors:\", author_count)\n",
    "\n",
    "maintainer_count = PyPiPackageInfo.objects.values('maintainer').distinct().count()\n",
    "print(\"Number of maintainers:\", maintainer_count)\n",
    "\n",
    "license_raw_count = PyPiPackageInfo.objects.values('license').distinct().count()\n",
    "print(\"Number of licenses (raw):\", license_raw_count)\n",
    "\n",
    "import_count = PyPiPackageReleaseImport.objects.count()\n",
    "print(\"Number of imports:\", import_count)"
   ]
  },
  {
   "cell_type": "markdown",
   "metadata": {},
   "source": [
    "### Date Range Coverage"
   ]
  },
  {
   "cell_type": "code",
   "execution_count": 4,
   "metadata": {},
   "outputs": [
    {
     "name": "stdout",
     "output_type": "stream",
     "text": [
      "First release: 2005-03-21 15:59:25+00:00\n",
      "Last release: 2019-05-15 20:29:29+00:00\n",
      "Duration 5168 days, 4:30:04\n"
     ]
    }
   ],
   "source": [
    "# Date ranges\n",
    "# FIRST_RELEASE_DATE\n",
    "first_release = PyPiPackageRelease.objects.earliest('upload_time').upload_time\n",
    "print(\"First release:\", first_release)\n",
    "\n",
    "# LAST_RELEASE_DATE\n",
    "last_release = PyPiPackageRelease.objects.latest('upload_time').upload_time\n",
    "print(\"Last release:\", last_release)\n",
    "\n",
    "print(\"Duration\", last_release-first_release)"
   ]
  },
  {
   "cell_type": "markdown",
   "metadata": {},
   "source": [
    "## Table 2: Primary counts by year"
   ]
  },
  {
   "cell_type": "code",
   "execution_count": 11,
   "metadata": {},
   "outputs": [
    {
     "name": "stdout",
     "output_type": "stream",
     "text": [
      "\\begin{tabular}{lrrrr}\n",
      "\\toprule\n",
      "{} &  new\\_packages &  active\\_packages &  new\\_releases &  new\\_authors \\\\\n",
      "\\midrule\n",
      "2005 &            96 &               96 &           389 &           68 \\\\\n",
      "2006 &           367 &              420 &          2324 &          216 \\\\\n",
      "2007 &           876 &             1047 &          5301 &          341 \\\\\n",
      "2008 &          1702 &             2223 &         10923 &          637 \\\\\n",
      "2009 &          2559 &             3727 &         17426 &          974 \\\\\n",
      "2010 &          3522 &             5454 &         23474 &         1455 \\\\\n",
      "2011 &          4840 &             7479 &         31107 &         1996 \\\\\n",
      "2012 &          7235 &            11047 &         47377 &         3062 \\\\\n",
      "2013 &         10438 &            16267 &         74003 &         4633 \\\\\n",
      "2014 &         13352 &            21555 &        112994 &         6016 \\\\\n",
      "2015 &         17355 &            28498 &        173437 &         7742 \\\\\n",
      "2016 &         21849 &            36557 &        253262 &        10293 \\\\\n",
      "2017 &         29905 &            48223 &        372034 &        12374 \\\\\n",
      "2018 &         39351 &            64628 &        502029 &        16064 \\\\\n",
      "2019 &         16873 &            18919 &        119664 &         6938 \\\\\n",
      "\\bottomrule\n",
      "\\end{tabular}\n",
      "\n"
     ]
    }
   ],
   "source": [
    "# New packages\n",
    "first_release_by_package = pd.read_sql_query(\"\"\"\n",
    "    SELECT pp.name AS package_name, EXTRACT(year FROM ppi.first_release_date) AS first_release_year\n",
    "    FROM ossld_pypipackageinfo ppi\n",
    "    JOIN ossld_pypipackage pp ON pp.id = ppi.pypi_package_id\n",
    "    \"\"\", connection)\n",
    "\n",
    "first_release_by_year = first_release_by_package[\"first_release_year\"].value_counts().sort_index()\n",
    "first_release_by_year.index = [int(year) for year in first_release_by_year.index]\n",
    "\n",
    "# Active packages\n",
    "raw_package_release_year = pd.read_sql_query(\"\"\"\n",
    "    SELECT EXTRACT(year FROM ppr.upload_time) AS release_year, pypi_package_id AS package_id\n",
    "    FROM ossld_pypipackagerelease ppr\n",
    "    JOIN ossld_pypipackage pp ON pp.id = ppr.pypi_package_id\n",
    "    \"\"\", connection)\n",
    "\n",
    "\n",
    "active_package_by_year = raw_package_release_year.groupby(\"release_year\")[\"package_id\"].nunique()\n",
    "active_package_by_year.index = [int(year) for year in active_package_by_year.index]\n",
    "\n",
    "# New releases\n",
    "release_by_year_df = pd.read_sql_query(\"\"\"\n",
    "    SELECT EXTRACT(YEAR FROM ppr.upload_time) AS year, COUNT(*) AS count\n",
    "    FROM ossld_pypipackagerelease ppr\n",
    "    GROUP BY year\n",
    "    ORDER BY year ASC\n",
    "    \"\"\", connection, index_col=\"year\")\n",
    "\n",
    "release_by_year_df.index = [int(year) for year in release_by_year_df.index]\n",
    "\n",
    "# New authors\n",
    "author_release_df = pd.read_sql_query(\"\"\"\n",
    "    SELECT ppi.author, ppi.author_email, EXTRACT(YEAR FROM ppi.first_release_date) AS first_release_year\n",
    "    FROM ossld_pypipackageinfo ppi\n",
    "    \"\"\", connection)\n",
    "\n",
    "author_first_release_df = author_release_df.groupby(\"author\")[\"first_release_year\"].min()\n",
    "author_email_first_release_df = author_release_df.groupby(\"author_email\")[\"first_release_year\"].min()\n",
    "author_email_first_release_df = author_email_first_release_df.value_counts().sort_index()\n",
    "author_email_first_release_df.index = [int(year) for year in author_email_first_release_df.index]\n",
    "\n",
    "# Merge all\n",
    "merge_ts_df = pd.concat([first_release_by_year,\n",
    "                         active_package_by_year,\n",
    "                         release_by_year_df,\n",
    "                         author_email_first_release_df\n",
    "                        ], axis=1)\n",
    "merge_ts_df.columns = [\"new_packages\", \"active_packages\", \"new_releases\", \"new_authors\"]\n",
    "print(merge_ts_df.to_latex())"
   ]
  },
  {
   "cell_type": "markdown",
   "metadata": {},
   "source": [
    "## Table 3: compound annual growth rates"
   ]
  },
  {
   "cell_type": "code",
   "execution_count": 23,
   "metadata": {},
   "outputs": [],
   "source": [
    "start_year = 2006\n",
    "end_year = 2018\n",
    "\n",
    "# calculate total packages\n",
    "merge_ts_df.loc[:, \"total_packages\"] = merge_ts_df[\"new_packages\"].expanding().sum()\n",
    "\n",
    "new_package_cagr = np.exp((np.log(merge_ts_df.loc[end_year, \"new_packages\"]) - np.log(merge_ts_df.loc[start_year, \"new_packages\"])) / (end_year - start_year + 1)) - 1\n",
    "active_package_cagr = np.exp((np.log(merge_ts_df.loc[end_year, \"active_packages\"]) - np.log(merge_ts_df.loc[start_year, \"active_packages\"])) / (end_year - start_year + 1)) - 1\n",
    "new_release_cagr = np.exp((np.log(merge_ts_df.loc[end_year, \"new_releases\"]) - np.log(merge_ts_df.loc[start_year, \"new_releases\"])) / (end_year - start_year + 1)) - 1\n",
    "new_author_cagr = np.exp((np.log(merge_ts_df.loc[end_year, \"new_authors\"]) - np.log(merge_ts_df.loc[start_year, \"new_authors\"])) / (end_year - start_year + 1)) - 1"
   ]
  },
  {
   "cell_type": "code",
   "execution_count": 32,
   "metadata": {},
   "outputs": [
    {
     "name": "stdout",
     "output_type": "stream",
     "text": [
      "\\begin{tabular}{lr}\n",
      "\\toprule\n",
      "{} &      0 \\\\\n",
      "\\midrule\n",
      "New Packages    &  43.28 \\\\\n",
      "Active Packages &  47.31 \\\\\n",
      "New Releases    &  51.21 \\\\\n",
      "New Authors     &  39.30 \\\\\n",
      "\\bottomrule\n",
      "\\end{tabular}\n",
      "\n"
     ]
    }
   ],
   "source": [
    "print(pd.Series({\"New Packages\": np.round(100. * new_package_cagr, 2),\n",
    "                \"Active Packages\": np.round(100. * active_package_cagr, 2),\n",
    "                 \"New Releases\": np.round(100. * new_release_cagr, 2),\n",
    "                 \"New Authors\": np.round(100. * new_author_cagr, 2)                \n",
    "                }).to_latex())"
   ]
  },
  {
   "cell_type": "markdown",
   "metadata": {},
   "source": [
    "## Table 4: Number of releases per package and inter-release timing"
   ]
  },
  {
   "cell_type": "code",
   "execution_count": 59,
   "metadata": {},
   "outputs": [],
   "source": [
    "package_release_count_df = pd.read_sql_query(\"\"\"\n",
    "    SELECT pp.name, ppi.first_release_date, ppi.last_release_date, ppi.release_count \n",
    "    FROM ossld_pypipackageinfo ppi\n",
    "    JOIN ossld_pypipackage pp ON pp.id = ppi.pypi_package_id\n",
    "    \"\"\", connection)\n",
    "\n",
    "release_count_summary = package_release_count_df[\"release_count\"].describe()"
   ]
  },
  {
   "cell_type": "code",
   "execution_count": 62,
   "metadata": {},
   "outputs": [],
   "source": [
    "# Calculate inter-release timing distribution data\n",
    "package_release_count_df.loc[:, \"package_lifespan\"] = (package_release_count_df.loc[:, \"last_release_date\"] - \\\n",
    "    package_release_count_df.loc[:, \"first_release_date\"]).apply(lambda x: x.days)\n",
    "package_release_count_df.loc[:, \"interrelease_timing\"] = None\n",
    "package_release_count_df.loc[package_release_count_df.loc[:, \"release_count\"] > 1, \"interrelease_timing\"] = package_release_count_df.loc[:, \"package_lifespan\"] / \\\n",
    "    (package_release_count_df.loc[package_release_count_df.loc[:, \"release_count\"] > 1, \"release_count\"] - 1)"
   ]
  },
  {
   "cell_type": "code",
   "execution_count": 63,
   "metadata": {},
   "outputs": [],
   "source": [
    "interrelease_timing_summary = package_release_count_df.loc[:, \"interrelease_timing\"].astype(float).describe()"
   ]
  },
  {
   "cell_type": "code",
   "execution_count": 68,
   "metadata": {},
   "outputs": [
    {
     "name": "stdout",
     "output_type": "stream",
     "text": [
      "\\begin{tabular}{lrr}\n",
      "\\toprule\n",
      "{} &  release\\_count &  interrelease\\_timing \\\\\n",
      "\\midrule\n",
      "mean &           6.93 &                65.38 \\\\\n",
      "std  &          19.46 &               144.89 \\\\\n",
      "min  &           1.00 &                 0.00 \\\\\n",
      "25\\%  &           1.00 &                 1.18 \\\\\n",
      "50\\%  &           3.00 &                16.37 \\\\\n",
      "75\\%  &           7.00 &                68.12 \\\\\n",
      "max  &        4333.00 &              4369.00 \\\\\n",
      "\\bottomrule\n",
      "\\end{tabular}\n",
      "\n"
     ]
    }
   ],
   "source": [
    "print(pd.concat([release_count_summary, interrelease_timing_summary], axis=1).round(2).iloc[1:].to_latex())"
   ]
  },
  {
   "cell_type": "markdown",
   "metadata": {},
   "source": [
    "## Table 5: Number of packages and releases per author"
   ]
  },
  {
   "cell_type": "code",
   "execution_count": null,
   "metadata": {},
   "outputs": [],
   "source": [
    "author_package_df = pd.read_sql_query(\"\"\"\n",
    "    SELECT pp.name, ppi.author_email, ppi.release_count \n",
    "    FROM ossld_pypipackageinfo ppi\n",
    "    JOIN ossld_pypipackage pp ON pp.id = ppi.pypi_package_id\n",
    "    \"\"\", connection)\n",
    "author_package_df = author_package_df.loc[-(author_package_df[\"author_email\"].isin([\"UNKNOWN\", \"TODO\"])) &\n",
    "                                           (author_package_df[\"author_email\"].apply(lambda x: len(x.strip()) > 0 if x is not None else False)), :]\n",
    "author_package_count_df = author_package_df.groupby(\"author_email\")[\"name\"].nunique()\n",
    "print(author_package_count_df.sort_values(ascending=False).describe().to_latex())\n"
   ]
  },
  {
   "cell_type": "code",
   "execution_count": 71,
   "metadata": {},
   "outputs": [],
   "source": [
    "author_raw_df = pd.read_sql_query(\"\"\"\n",
    "    SELECT ppi.author, COUNT(ppi.pypi_package_id)\n",
    "    FROM ossld_pypipackageinfo ppi\n",
    "    GROUP BY ppi.author\n",
    "    \"\"\", connection)"
   ]
  },
  {
   "cell_type": "code",
   "execution_count": 72,
   "metadata": {},
   "outputs": [],
   "source": [
    "final_token_list = ['inc', 'ltd', 'lda', 'sl', 'sa', 'srl', 'bv', 'corp', 'sro', 'plc', 'llc', 'gmbh', 'ag']\n",
    "sub_token_list = [\"Team\", \"Organization\", \"Lab\", \"Association\", \"Foundation\", \"Developers\", \"Corporation\",  \"Industr\", \"Group\"]\n",
    "\n",
    "def is_string_org(input_string):\n",
    "    if input_string is None or len(input_string.strip()) == 0:\n",
    "        return False\n",
    "    \n",
    "    for sub_token in sub_token_list:\n",
    "        if \" \" + sub_token.lower() in input_string.lower():\n",
    "            return True\n",
    "    \n",
    "    final_token = input_string.split().pop().replace(\".\", \"\").strip().lower()\n",
    "    if final_token in final_token_list:\n",
    "        return True\n",
    "    \n",
    "    return False"
   ]
  },
  {
   "cell_type": "code",
   "execution_count": 73,
   "metadata": {},
   "outputs": [],
   "source": [
    "author_raw_df.loc[:, \"is_org\"] = author_raw_df[\"author\"].apply(is_string_org)\n",
    "author_raw_df.loc[:, \"is_multiple\"] = author_raw_df[\"author\"].str.contains(\",\") | author_raw_df[\"author\"].str.contains(\" and \") | author_raw_df[\"author\"].str.contains(\"et al.\")"
   ]
  },
  {
   "cell_type": "markdown",
   "metadata": {},
   "source": [
    "## Table 6: Proportion of packages and authors likely to be organization or multiple"
   ]
  },
  {
   "cell_type": "code",
   "execution_count": 81,
   "metadata": {},
   "outputs": [
    {
     "name": "stdout",
     "output_type": "stream",
     "text": [
      "\\begin{tabular}{lrr}\n",
      "\\toprule\n",
      "{} &  Author String &  Packages \\\\\n",
      "\\midrule\n",
      "Multiple     &       0.083016 &  0.070052 \\\\\n",
      "Organization &       0.054911 &  0.077691 \\\\\n",
      "\\bottomrule\n",
      "\\end{tabular}\n",
      "\n"
     ]
    }
   ],
   "source": [
    "org_pct_df = author_raw_df.groupby(\"is_org\")[\"count\"].sum() / author_raw_df[\"count\"].sum()\n",
    "multiple_pct_df = author_raw_df.groupby(\"is_multiple\")[\"count\"].sum() / author_raw_df[\"count\"].sum()\n",
    "\n",
    "print(pd.DataFrame({\"Author String\": \n",
    "                  {\"Organization\": author_raw_df[\"is_org\"].mean(),\n",
    "                   \"Multiple\": author_raw_df[\"is_multiple\"].mean()},\n",
    "              \"Packages\": \n",
    "                  {\"Organization\": org_pct_df.iloc[1],\n",
    "                   \"Multiple\": multiple_pct_df.iloc[1]}\n",
    "             }).to_latex())"
   ]
  },
  {
   "cell_type": "markdown",
   "metadata": {},
   "source": [
    "## Table 7: Distribution of package and release sizes"
   ]
  },
  {
   "cell_type": "code",
   "execution_count": 84,
   "metadata": {},
   "outputs": [
    {
     "name": "stdout",
     "output_type": "stream",
     "text": [
      "\\begin{tabular}{lrr}\n",
      "\\toprule\n",
      "{} &          size &       size \\\\\n",
      "\\midrule\n",
      "mean &  1.646679e+04 &    1606.55 \\\\\n",
      "std  &  8.091365e+05 &   14971.49 \\\\\n",
      "min  &  2.000000e-02 &       0.00 \\\\\n",
      "25\\%  &  1.004000e+01 &       7.50 \\\\\n",
      "50\\%  &  4.000000e+01 &      22.60 \\\\\n",
      "75\\%  &  2.162800e+02 &     128.16 \\\\\n",
      "max  &  1.757637e+08 &  592437.94 \\\\\n",
      "\\bottomrule\n",
      "\\end{tabular}\n",
      "\n"
     ]
    }
   ],
   "source": [
    "# get release size data\n",
    "release_df = pd.read_sql_query(\"\"\"\n",
    "    SELECT pp.name AS package_name, ppr.upload_time, ppr.package_type, ppr.python_version, ppr.size, ppr.filename\n",
    "    FROM ossld_pypipackagerelease ppr\n",
    "    JOIN ossld_pypipackage pp ON pp.id = ppr.pypi_package_id\n",
    "    \"\"\", connection, index_col=\"package_name\")\n",
    "\n",
    "\n",
    "package_size_df = (release_df.groupby(\"package_name\")[\"size\"].sum() / 1024.).describe()\n",
    "release_size_df = (release_df[\"size\"] / 1024).describe()\n",
    "\n",
    "print(pd.concat([package_size_df, release_size_df], axis=1).round(2).iloc[1:].to_latex())"
   ]
  },
  {
   "cell_type": "markdown",
   "metadata": {},
   "source": [
    "## Table 8: Number of packages by license"
   ]
  },
  {
   "cell_type": "code",
   "execution_count": 85,
   "metadata": {},
   "outputs": [],
   "source": [
    "package_license_df = pd.read_csv(\"./package_license_final.csv\", encoding=\"utf-8\", low_memory=False)"
   ]
  },
  {
   "cell_type": "code",
   "execution_count": 86,
   "metadata": {},
   "outputs": [
    {
     "name": "stdout",
     "output_type": "stream",
     "text": [
      "\\begin{tabular}{lrr}\n",
      "\\toprule\n",
      "{} &  count &   percent \\\\\n",
      "\\midrule\n",
      "MIT           &  60945 &  0.340566 \\\\\n",
      "Unknown       &  48742 &  0.272375 \\\\\n",
      "GPL           &  29403 &  0.164307 \\\\\n",
      "BSD           &  20094 &  0.112287 \\\\\n",
      "Apache        &  15004 &  0.083844 \\\\\n",
      "Public Domain &   1194 &  0.006672 \\\\\n",
      "Zope          &   1150 &  0.006426 \\\\\n",
      "ISC           &    719 &  0.004018 \\\\\n",
      "MPL           &    712 &  0.003979 \\\\\n",
      "PSFL          &    524 &  0.002928 \\\\\n",
      "Proprietary   &    190 &  0.001062 \\\\\n",
      "CC            &    178 &  0.000995 \\\\\n",
      "CeCILL        &     72 &  0.000402 \\\\\n",
      "zlib          &     25 &  0.000140 \\\\\n",
      "\\bottomrule\n",
      "\\end{tabular}\n",
      "\n"
     ]
    }
   ],
   "source": [
    "license_family_count = package_license_df.loc[:, \"license_final_family\"].value_counts()\n",
    "license_family_count_df = pd.DataFrame(license_family_count)\n",
    "license_family_count_df.columns = [\"count\"]\n",
    "license_family_count_df.loc[:, \"percent\"] = license_family_count_df[\"count\"] / license_family_count_df[\"count\"].sum() \n",
    "print(license_family_count_df.to_latex())"
   ]
  },
  {
   "cell_type": "markdown",
   "metadata": {},
   "source": [
    "## Table 9: Number of packages by GPL license"
   ]
  },
  {
   "cell_type": "code",
   "execution_count": 88,
   "metadata": {},
   "outputs": [
    {
     "name": "stdout",
     "output_type": "stream",
     "text": [
      "\\begin{tabular}{llrr}\n",
      "\\toprule\n",
      "     &         &  count &   percent \\\\\n",
      "license\\_final\\_normalized & license\\_final\\_version &        &           \\\\\n",
      "\\midrule\n",
      "AGPL & 3 &   5642 &  0.191885 \\\\\n",
      "     & Unknown &    683 &  0.023229 \\\\\n",
      "GPL & 2 &   2428 &  0.082577 \\\\\n",
      "     & 2.1 &     69 &  0.002347 \\\\\n",
      "     & 3 &   8437 &  0.286944 \\\\\n",
      "     & Unknown &   8508 &  0.289358 \\\\\n",
      "LGPL & 2 &    122 &  0.004149 \\\\\n",
      "     & 2.1 &     90 &  0.003061 \\\\\n",
      "     & 3 &   1501 &  0.051049 \\\\\n",
      "     & Unknown &   1923 &  0.065401 \\\\\n",
      "\\bottomrule\n",
      "\\end{tabular}\n",
      "\n"
     ]
    }
   ],
   "source": [
    "license_gpl_family_version_count = package_license_df.loc[package_license_df[\"license_final_family\"]==\"GPL\", :]\\\n",
    "    .groupby([\"license_final_normalized\", \"license_final_version\"])[\"package_id\"].count()\n",
    "license_gpl_family_version_count_df = pd.DataFrame(license_gpl_family_version_count)\n",
    "license_gpl_family_version_count_df.columns = [\"count\"]\n",
    "license_gpl_family_version_count_df.loc[:, \"percent\"] = license_gpl_family_version_count_df[\"count\"] / license_gpl_family_version_count_df[\"count\"].sum() \n",
    "print(license_gpl_family_version_count_df.to_latex())"
   ]
  },
  {
   "cell_type": "markdown",
   "metadata": {},
   "source": [
    "## Table 10: Development Status"
   ]
  },
  {
   "cell_type": "code",
   "execution_count": 89,
   "metadata": {},
   "outputs": [
    {
     "name": "stdout",
     "output_type": "stream",
     "text": [
      "\\begin{tabular}{lrr}\n",
      "\\toprule\n",
      "{} &  count &   percent \\\\\n",
      "classification                              &        &           \\\\\n",
      "\\midrule\n",
      "Development Status :: 1 - Planning          &   2619 &  0.031979 \\\\\n",
      "Development Status :: 2 - Pre-Alpha         &   6409 &  0.078256 \\\\\n",
      "Development Status :: 3 - Alpha             &  22686 &  0.277003 \\\\\n",
      "Development Status :: 4 - Beta              &  28960 &  0.353611 \\\\\n",
      "Development Status :: 5 - Production/Stable &  20425 &  0.249396 \\\\\n",
      "Development Status :: 6 - Mature            &    485 &  0.005922 \\\\\n",
      "Development Status :: 7 - Inactive          &    314 &  0.003834 \\\\\n",
      "\\bottomrule\n",
      "\\end{tabular}\n",
      "\n"
     ]
    }
   ],
   "source": [
    "development_status_df = pd.read_sql_query(\"\"\"\n",
    "    SELECT pc.classification AS classification, COUNT(*) AS count\n",
    "    FROM ossld_pypipackageclassification ppc\n",
    "    JOIN ossld_pypiclassification pc ON ppc.pypi_classification_id = pc.id\n",
    "    WHERE pc.classification LIKE 'Devel%'\n",
    "    GROUP BY classification\n",
    "    ORDER BY count DESC\n",
    "    \"\"\", connection, index_col=\"classification\")\n",
    "development_status_df = development_status_df.sort_index()\n",
    "development_status_df.loc[:, \"percent\"] = development_status_df[\"count\"] / development_status_df[\"count\"].sum()\n",
    "print(development_status_df.to_latex())"
   ]
  },
  {
   "cell_type": "markdown",
   "metadata": {},
   "source": [
    "## Table 11: Intended Audience"
   ]
  },
  {
   "cell_type": "code",
   "execution_count": 91,
   "metadata": {},
   "outputs": [
    {
     "name": "stdout",
     "output_type": "stream",
     "text": [
      "\\begin{tabular}{lrr}\n",
      "\\toprule\n",
      "{} &  count &   percent \\\\\n",
      "\\midrule\n",
      "Developers                       &  69682 &  0.668188 \\\\\n",
      "Science/Research                 &  12020 &  0.115261 \\\\\n",
      "System Administrators            &   7328 &  0.070269 \\\\\n",
      "End Users/Desktop                &   4557 &  0.043698 \\\\\n",
      "Information Technology           &   4132 &  0.039622 \\\\\n",
      "Education                        &   2759 &  0.026456 \\\\\n",
      "Financial and Insurance Industry &    872 &  0.008362 \\\\\n",
      "Other Audience                   &    761 &  0.007297 \\\\\n",
      "Telecommunications Industry      &    529 &  0.005073 \\\\\n",
      "Healthcare Industry              &    526 &  0.005044 \\\\\n",
      "Legal Industry                   &    426 &  0.004085 \\\\\n",
      "Manufacturing                    &    383 &  0.003673 \\\\\n",
      "Customer Service                 &    222 &  0.002129 \\\\\n",
      "Religion                         &     88 &  0.000844 \\\\\n",
      "\\bottomrule\n",
      "\\end{tabular}\n",
      "\n"
     ]
    }
   ],
   "source": [
    "audience_df = pd.read_sql_query(\"\"\"\n",
    "    SELECT pc.classification AS classification, COUNT(*) AS count\n",
    "    FROM ossld_pypipackageclassification ppc\n",
    "    JOIN ossld_pypiclassification pc ON ppc.pypi_classification_id = pc.id\n",
    "    WHERE pc.classification LIKE 'Intend%'\n",
    "    GROUP BY classification\n",
    "    ORDER BY count DESC\n",
    "    \"\"\", connection, index_col=\"classification\")\n",
    "audience_df = audience_df.sort_values(\"count\", ascending=False)\n",
    "audience_df.loc[:, \"percent\"] = audience_df[\"count\"] / audience_df[\"count\"].sum()\n",
    "audience_df.index = [s.replace(\"Intended Audience :: \", \"\") for s in audience_df.index]\n",
    "print(audience_df.to_latex())"
   ]
  },
  {
   "cell_type": "markdown",
   "metadata": {},
   "source": [
    "## Table 12: Operating System"
   ]
  },
  {
   "cell_type": "code",
   "execution_count": 92,
   "metadata": {},
   "outputs": [
    {
     "name": "stdout",
     "output_type": "stream",
     "text": [
      "\\begin{tabular}{lrr}\n",
      "\\toprule\n",
      "{} &  count &   percent \\\\\n",
      "\\midrule\n",
      "OS Independent                                 &  47053 &  0.577090 \\\\\n",
      "POSIX                                          &   7850 &  0.096278 \\\\\n",
      "POSIX :: Linux                                 &   7437 &  0.091212 \\\\\n",
      "Microsoft :: Windows                           &   5258 &  0.064488 \\\\\n",
      "MacOS :: MacOS X                               &   4631 &  0.056798 \\\\\n",
      "Unix                                           &   4573 &  0.056086 \\\\\n",
      "MacOS                                          &   2594 &  0.031815 \\\\\n",
      "Microsoft                                      &    420 &  0.005151 \\\\\n",
      "POSIX :: BSD                                   &    279 &  0.003422 \\\\\n",
      "Microsoft :: Windows :: Windows 7              &    174 &  0.002134 \\\\\n",
      "Microsoft :: Windows :: Windows 10             &    164 &  0.002011 \\\\\n",
      "POSIX :: BSD :: FreeBSD                        &    138 &  0.001693 \\\\\n",
      "Microsoft :: Windows :: Windows NT/2000        &    110 &  0.001349 \\\\\n",
      "POSIX :: SunOS/Solaris                         &    104 &  0.001276 \\\\\n",
      "Android                                        &     93 &  0.001141 \\\\\n",
      "Microsoft :: Windows :: Windows XP             &     67 &  0.000822 \\\\\n",
      "POSIX :: BSD :: OpenBSD                        &     67 &  0.000822 \\\\\n",
      "Other OS                                       &     49 &  0.000601 \\\\\n",
      "Microsoft :: Windows :: Windows Vista          &     47 &  0.000576 \\\\\n",
      "POSIX :: Other                                 &     46 &  0.000564 \\\\\n",
      "iOS                                            &     44 &  0.000540 \\\\\n",
      "Microsoft :: Windows :: Windows 8              &     41 &  0.000503 \\\\\n",
      "Microsoft :: Windows :: Windows 8.1            &     39 &  0.000478 \\\\\n",
      "POSIX :: BSD :: NetBSD                         &     37 &  0.000454 \\\\\n",
      "Microsoft :: Windows :: Windows 95/98/2000     &     26 &  0.000319 \\\\\n",
      "Microsoft :: Windows :: Windows Server 2008    &     26 &  0.000319 \\\\\n",
      "POSIX :: AIX                                   &     22 &  0.000270 \\\\\n",
      "Microsoft :: Windows :: Windows Server 2003    &     19 &  0.000233 \\\\\n",
      "OS/2                                           &     17 &  0.000208 \\\\\n",
      "MacOS :: MacOS 9                               &     15 &  0.000184 \\\\\n",
      "POSIX :: BSD :: BSD/OS                         &     14 &  0.000172 \\\\\n",
      "POSIX :: HP-UX                                 &     13 &  0.000159 \\\\\n",
      "Microsoft :: MS-DOS                            &     12 &  0.000147 \\\\\n",
      "POSIX :: IRIX                                  &     12 &  0.000147 \\\\\n",
      "BeOS                                           &     11 &  0.000135 \\\\\n",
      "POSIX :: GNU Hurd                              &     10 &  0.000123 \\\\\n",
      "POSIX :: SCO                                   &      7 &  0.000086 \\\\\n",
      "Microsoft :: Windows :: Windows CE             &      5 &  0.000061 \\\\\n",
      "PDA Systems                                    &      5 &  0.000061 \\\\\n",
      "PalmOS                                         &      4 &  0.000049 \\\\\n",
      "Microsoft :: Windows :: Windows 3.1 or Earlier &      2 &  0.000025 \\\\\n",
      "\\bottomrule\n",
      "\\end{tabular}\n",
      "\n"
     ]
    }
   ],
   "source": [
    "os_df = pd.read_sql_query(\"\"\"\n",
    "    SELECT pc.classification AS classification, COUNT(*) AS count\n",
    "    FROM ossld_pypipackageclassification ppc\n",
    "    JOIN ossld_pypiclassification pc ON ppc.pypi_classification_id = pc.id\n",
    "    WHERE pc.classification LIKE 'Operat%'\n",
    "    GROUP BY classification\n",
    "    ORDER BY count DESC\n",
    "    \"\"\", connection, index_col=\"classification\")\n",
    "os_df = os_df.sort_values(\"count\", ascending=False)\n",
    "os_df.loc[:, \"percent\"] = os_df[\"count\"] / os_df[\"count\"].sum()\n",
    "os_df.index = [s.replace(\"Operating System :: \", \"\") for s in os_df.index]\n",
    "print(os_df.to_latex())"
   ]
  },
  {
   "cell_type": "code",
   "execution_count": 93,
   "metadata": {},
   "outputs": [
    {
     "name": "stdout",
     "output_type": "stream",
     "text": [
      "\\begin{tabular}{lrr}\n",
      "\\toprule\n",
      "{} &  count &   percent \\\\\n",
      "classification\\_l1 &        &           \\\\\n",
      "\\midrule\n",
      "OS Independent    &  47053 &  0.577090 \\\\\n",
      "POSIX             &  16036 &  0.196676 \\\\\n",
      "MacOS             &   7240 &  0.088796 \\\\\n",
      "Microsoft         &   6410 &  0.078617 \\\\\n",
      "Unix              &   4573 &  0.056086 \\\\\n",
      "Android           &     93 &  0.001141 \\\\\n",
      "Other OS          &     49 &  0.000601 \\\\\n",
      "iOS               &     44 &  0.000540 \\\\\n",
      "OS/2              &     17 &  0.000208 \\\\\n",
      "BeOS              &     11 &  0.000135 \\\\\n",
      "PDA Systems       &      5 &  0.000061 \\\\\n",
      "PalmOS            &      4 &  0.000049 \\\\\n",
      "\\bottomrule\n",
      "\\end{tabular}\n",
      "\n"
     ]
    }
   ],
   "source": [
    "os_df.loc[:, \"classification_l1\"] = [x.split(\"::\")[0].strip() for x in os_df.index]\n",
    "os_l1_df = os_df.groupby(\"classification_l1\")[\"count\", \"percent\"].sum()\n",
    "os_l1_df = os_l1_df.sort_values(\"count\", ascending=False)\n",
    "print(os_l1_df.to_latex())"
   ]
  },
  {
   "cell_type": "markdown",
   "metadata": {},
   "source": [
    "## Table 13: Framework"
   ]
  },
  {
   "cell_type": "code",
   "execution_count": 94,
   "metadata": {},
   "outputs": [
    {
     "name": "stdout",
     "output_type": "stream",
     "text": [
      "\\begin{tabular}{lrr}\n",
      "\\toprule\n",
      "{} &  count &   percent \\\\\n",
      "\\midrule\n",
      "Django                     &  10815 &  0.294566 \\\\\n",
      "Odoo                       &   5625 &  0.153207 \\\\\n",
      "Plone                      &   3100 &  0.084434 \\\\\n",
      "Django :: 1.11             &   1296 &  0.035299 \\\\\n",
      "Django :: 1.8              &   1095 &  0.029824 \\\\\n",
      "Django :: 2.0              &   1077 &  0.029334 \\\\\n",
      "Django :: 1.9              &   1012 &  0.027564 \\\\\n",
      "Django :: 1.10             &    948 &  0.025821 \\\\\n",
      "Zope3                      &    942 &  0.025657 \\\\\n",
      "Zope2                      &    931 &  0.025357 \\\\\n",
      "Plone :: 4.3               &    735 &  0.020019 \\\\\n",
      "Flask                      &    662 &  0.018031 \\\\\n",
      "Tryton                     &    556 &  0.015144 \\\\\n",
      "Pyramid                    &    527 &  0.014354 \\\\\n",
      "Plone :: 4.2               &    493 &  0.013428 \\\\\n",
      "Django :: 2.1              &    474 &  0.012910 \\\\\n",
      "Plone :: 4.1               &    440 &  0.011984 \\\\\n",
      "Buildout                   &    435 &  0.011848 \\\\\n",
      "Pytest                     &    368 &  0.010023 \\\\\n",
      "Plone :: 5.0               &    345 &  0.009397 \\\\\n",
      "Plone :: 4.0               &    337 &  0.009179 \\\\\n",
      "IPython                    &    330 &  0.008988 \\\\\n",
      "Twisted                    &    324 &  0.008825 \\\\\n",
      "AsyncIO                    &    321 &  0.008743 \\\\\n",
      "Django :: 1.7              &    294 &  0.008008 \\\\\n",
      "Plone :: 5.1               &    270 &  0.007354 \\\\\n",
      "Pylons                     &    267 &  0.007272 \\\\\n",
      "Sphinx :: Extension        &    170 &  0.004630 \\\\\n",
      "Jupyter                    &    168 &  0.004576 \\\\\n",
      "Paste                      &    151 &  0.004113 \\\\\n",
      "Bob                        &    139 &  0.003786 \\\\\n",
      "Django :: 1.6              &    130 &  0.003541 \\\\\n",
      "Plone :: 3.3               &    119 &  0.003241 \\\\\n",
      "TurboGears                 &    115 &  0.003132 \\\\\n",
      "Trac                       &    107 &  0.002914 \\\\\n",
      "Plone :: 5.2               &    104 &  0.002833 \\\\\n",
      "Sphinx                     &     98 &  0.002669 \\\\\n",
      "CubicWeb                   &     89 &  0.002424 \\\\\n",
      "Setuptools Plugin          &     77 &  0.002097 \\\\\n",
      "Scrapy                     &     77 &  0.002097 \\\\\n",
      "Flake8                     &     75 &  0.002043 \\\\\n",
      "Robot Framework            &     74 &  0.002016 \\\\\n",
      "Django :: 1.5              &     74 &  0.002016 \\\\\n",
      "Bottle                     &     71 &  0.001934 \\\\\n",
      "Django :: 2.2              &     69 &  0.001879 \\\\\n",
      "Buildout :: Recipe         &     59 &  0.001607 \\\\\n",
      "ZODB                       &     57 &  0.001552 \\\\\n",
      "CherryPy                   &     57 &  0.001552 \\\\\n",
      "TurboGears :: Widgets      &     54 &  0.001471 \\\\\n",
      "Django :: 1.4              &     53 &  0.001444 \\\\\n",
      "Robot Library              &     50 &  0.001362 \\\\\n",
      "Sphinx :: Theme            &     44 &  0.001198 \\\\\n",
      "Wagtail                    &     43 &  0.001171 \\\\\n",
      "Zope :: 3                  &     42 &  0.001144 \\\\\n",
      "Zope :: 4                  &     36 &  0.000981 \\\\\n",
      "Wagtail :: 2               &     35 &  0.000953 \\\\\n",
      "Lektor                     &     27 &  0.000735 \\\\\n",
      "Plone :: 3.2               &     27 &  0.000735 \\\\\n",
      "Trio                       &     26 &  0.000708 \\\\\n",
      "IDLE                       &     18 &  0.000490 \\\\\n",
      "TurboGears :: Applications &     18 &  0.000490 \\\\\n",
      "BFG                        &     17 &  0.000463 \\\\\n",
      "tox                        &     12 &  0.000327 \\\\\n",
      "Chandler                   &     12 &  0.000327 \\\\\n",
      "Review Board               &     12 &  0.000327 \\\\\n",
      "Zope                       &     11 &  0.000300 \\\\\n",
      "Plone :: Theme             &     11 &  0.000300 \\\\\n",
      "Robot Tool                 &     10 &  0.000272 \\\\\n",
      "Pelican :: Plugins         &      9 &  0.000245 \\\\\n",
      "Wagtail :: 1               &      9 &  0.000245 \\\\\n",
      "Zope :: 2                  &      9 &  0.000245 \\\\\n",
      "Buildout :: Extension      &      8 &  0.000218 \\\\\n",
      "Hypothesis                 &      7 &  0.000191 \\\\\n",
      "Pelican :: Themes          &      4 &  0.000109 \\\\\n",
      "Opps                       &      4 &  0.000109 \\\\\n",
      "Pelican                    &      3 &  0.000082 \\\\\n",
      "Plone :: Addon             &      2 &  0.000054 \\\\\n",
      "CastleCMS                  &      1 &  0.000027 \\\\\n",
      "AiiDA                      &      1 &  0.000027 \\\\\n",
      "CastleCMS :: Theme         &      1 &  0.000027 \\\\\n",
      "\\bottomrule\n",
      "\\end{tabular}\n",
      "\n"
     ]
    }
   ],
   "source": [
    "framework_df = pd.read_sql_query(\"\"\"\n",
    "    SELECT pc.classification AS classification, COUNT(*) AS count\n",
    "    FROM ossld_pypipackageclassification ppc\n",
    "    JOIN ossld_pypiclassification pc ON ppc.pypi_classification_id = pc.id\n",
    "    WHERE pc.classification LIKE 'Fram%'\n",
    "    GROUP BY classification\n",
    "    ORDER BY count DESC\n",
    "    \"\"\", connection, index_col=\"classification\")\n",
    "framework_df = framework_df.sort_values(\"count\", ascending=False)\n",
    "framework_df.loc[:, \"percent\"] = framework_df[\"count\"] / framework_df[\"count\"].sum()\n",
    "framework_df.index = [s.replace(\"Framework :: \", \"\") for s in framework_df.index]\n",
    "print(framework_df.to_latex())"
   ]
  },
  {
   "cell_type": "code",
   "execution_count": 95,
   "metadata": {},
   "outputs": [
    {
     "name": "stdout",
     "output_type": "stream",
     "text": [
      "\\begin{tabular}{lrr}\n",
      "\\toprule\n",
      "{} &  count &   percent \\\\\n",
      "classification\\_l1 &        &           \\\\\n",
      "\\midrule\n",
      "Django            &  17337 &  0.472205 \\\\\n",
      "Plone             &   5983 &  0.162958 \\\\\n",
      "Odoo              &   5625 &  0.153207 \\\\\n",
      "Zope3             &    942 &  0.025657 \\\\\n",
      "Zope2             &    931 &  0.025357 \\\\\n",
      "Flask             &    662 &  0.018031 \\\\\n",
      "Tryton            &    556 &  0.015144 \\\\\n",
      "Pyramid           &    527 &  0.014354 \\\\\n",
      "Buildout          &    502 &  0.013673 \\\\\n",
      "Pytest            &    368 &  0.010023 \\\\\n",
      "IPython           &    330 &  0.008988 \\\\\n",
      "Twisted           &    324 &  0.008825 \\\\\n",
      "AsyncIO           &    321 &  0.008743 \\\\\n",
      "Sphinx            &    312 &  0.008498 \\\\\n",
      "Pylons            &    267 &  0.007272 \\\\\n",
      "TurboGears        &    187 &  0.005093 \\\\\n",
      "Jupyter           &    168 &  0.004576 \\\\\n",
      "Paste             &    151 &  0.004113 \\\\\n",
      "Bob               &    139 &  0.003786 \\\\\n",
      "Trac              &    107 &  0.002914 \\\\\n",
      "\\bottomrule\n",
      "\\end{tabular}\n",
      "\n"
     ]
    }
   ],
   "source": [
    "framework_df.loc[:, \"classification_l1\"] = [x.split(\"::\")[0].strip() for x in framework_df.index]\n",
    "framework_l1_df = framework_df.groupby(\"classification_l1\")[\"count\", \"percent\"].sum()\n",
    "framework_l1_df = framework_l1_df.sort_values(\"count\", ascending=False)\n",
    "print(framework_l1_df.head(20).to_latex())"
   ]
  },
  {
   "cell_type": "markdown",
   "metadata": {},
   "source": [
    "## Table 14: Topic"
   ]
  },
  {
   "cell_type": "code",
   "execution_count": 96,
   "metadata": {},
   "outputs": [
    {
     "name": "stdout",
     "output_type": "stream",
     "text": [
      "\\begin{tabular}{lrr}\n",
      "\\toprule\n",
      "{} &  count &   percent \\\\\n",
      "\\midrule\n",
      "Software Development :: Libraries :: Python Mod... &  22700 &  0.175384 \\\\\n",
      "Utilities                                          &  12106 &  0.093533 \\\\\n",
      "Internet :: WWW/HTTP                               &   7198 &  0.055613 \\\\\n",
      "Software Development :: Libraries                  &   6781 &  0.052391 \\\\\n",
      "Internet :: WWW/HTTP :: Dynamic Content            &   5736 &  0.044317 \\\\\n",
      "Software Development                               &   5627 &  0.043475 \\\\\n",
      "Scientific/Engineering                             &   4827 &  0.037294 \\\\\n",
      "Software Development :: Build Tools                &   4056 &  0.031337 \\\\\n",
      "Internet                                           &   2607 &  0.020142 \\\\\n",
      "Software Development :: Testing                    &   2489 &  0.019230 \\\\\n",
      "Scientific/Engineering :: Bio-Informatics          &   2050 &  0.015839 \\\\\n",
      "Software Development :: Libraries :: Applicatio... &   1792 &  0.013845 \\\\\n",
      "Database                                           &   1659 &  0.012818 \\\\\n",
      "Scientific/Engineering :: Artificial Intelligence  &   1614 &  0.012470 \\\\\n",
      "Scientific/Engineering :: Mathematics              &   1582 &  0.012223 \\\\\n",
      "Scientific/Engineering :: Information Analysis     &   1574 &  0.012161 \\\\\n",
      "System :: Systems Administration                   &   1423 &  0.010994 \\\\\n",
      "Scientific/Engineering :: Physics                  &   1253 &  0.009681 \\\\\n",
      "Security                                           &   1240 &  0.009580 \\\\\n",
      "System :: Networking                               &   1101 &  0.008507 \\\\\n",
      "Text Processing                                    &    999 &  0.007718 \\\\\n",
      "Scientific/Engineering :: Visualization            &    979 &  0.007564 \\\\\n",
      "Software Development :: Quality Assurance          &    969 &  0.007487 \\\\\n",
      "Text Processing :: Linguistic                      &    922 &  0.007124 \\\\\n",
      "Office/Business                                    &    899 &  0.006946 \\\\\n",
      "System :: Monitoring                               &    886 &  0.006845 \\\\\n",
      "Internet :: WWW/HTTP :: WSGI :: Application        &    883 &  0.006822 \\\\\n",
      "Communications                                     &    876 &  0.006768 \\\\\n",
      "Documentation                                      &    837 &  0.006467 \\\\\n",
      "Internet :: WWW/HTTP :: WSGI                       &    826 &  0.006382 \\\\\n",
      "Education                                          &    798 &  0.006165 \\\\\n",
      "System :: Distributed Computing                    &    763 &  0.005895 \\\\\n",
      "Database :: Front-Ends                             &    706 &  0.005455 \\\\\n",
      "Security :: Cryptography                           &    701 &  0.005416 \\\\\n",
      "Software Development :: User Interfaces            &    681 &  0.005262 \\\\\n",
      "Multimedia :: Graphics                             &    670 &  0.005177 \\\\\n",
      "Scientific/Engineering :: Astronomy                &    624 &  0.004821 \\\\\n",
      "Scientific/Engineering :: GIS                      &    578 &  0.004466 \\\\\n",
      "Text Processing :: Markup :: HTML                  &    566 &  0.004373 \\\\\n",
      "System :: Software Distribution                    &    552 &  0.004265 \\\\\n",
      "Software Development :: Documentation              &    543 &  0.004195 \\\\\n",
      "Software Development :: Code Generators            &    539 &  0.004164 \\\\\n",
      "Games/Entertainment                                &    514 &  0.003971 \\\\\n",
      "System :: Hardware                                 &    499 &  0.003855 \\\\\n",
      "System :: Logging                                  &    488 &  0.003770 \\\\\n",
      "Terminals                                          &    478 &  0.003693 \\\\\n",
      "Text Processing :: Markup                          &    473 &  0.003654 \\\\\n",
      "Communications :: Chat                             &    458 &  0.003539 \\\\\n",
      "Scientific/Engineering :: Chemistry                &    444 &  0.003430 \\\\\n",
      "Software Development :: Version Control            &    434 &  0.003353 \\\\\n",
      "Internet :: WWW/HTTP :: Site Management            &    422 &  0.003260 \\\\\n",
      "Home Automation                                    &    421 &  0.003253 \\\\\n",
      "Scientific/Engineering :: Medical Science Apps.    &    415 &  0.003206 \\\\\n",
      "Multimedia :: Sound/Audio                          &    413 &  0.003191 \\\\\n",
      "Communications :: Email                            &    407 &  0.003145 \\\\\n",
      "System :: Installation/Setup                       &    407 &  0.003145 \\\\\n",
      "Text Processing :: Markup :: XML                   &    377 &  0.002913 \\\\\n",
      "System                                             &    372 &  0.002874 \\\\\n",
      "Office/Business :: Financial                       &    359 &  0.002774 \\\\\n",
      "Text Processing :: Filters                         &    353 &  0.002727 \\\\\n",
      "System :: Filesystems                              &    327 &  0.002526 \\\\\n",
      "Text Processing :: General                         &    325 &  0.002511 \\\\\n",
      "Multimedia :: Video                                &    322 &  0.002488 \\\\\n",
      "Internet :: WWW/HTTP :: HTTP Servers               &    302 &  0.002333 \\\\\n",
      "System :: Networking :: Monitoring                 &    301 &  0.002326 \\\\\n",
      "System :: Shells                                   &    287 &  0.002217 \\\\\n",
      "Internet :: WWW/HTTP :: WSGI :: Middleware         &    282 &  0.002179 \\\\\n",
      "Internet :: WWW/HTTP :: Indexing/Search            &    280 &  0.002163 \\\\\n",
      "Multimedia                                         &    270 &  0.002086 \\\\\n",
      "Software Development :: Embedded Systems           &    264 &  0.002040 \\\\\n",
      "Text Processing :: Indexing                        &    254 &  0.001962 \\\\\n",
      "Office/Business :: Financial :: Accounting         &    253 &  0.001955 \\\\\n",
      "Database :: Database Engines/Servers               &    250 &  0.001932 \\\\\n",
      "Software Development :: Debuggers                  &    248 &  0.001916 \\\\\n",
      "Scientific/Engineering :: Image Recognition        &    239 &  0.001847 \\\\\n",
      "Scientific/Engineering :: Atmospheric Science      &    236 &  0.001823 \\\\\n",
      "Other/Nonlisted Topic                              &    227 &  0.001754 \\\\\n",
      "Internet :: WWW/HTTP :: Dynamic Content :: CGI ... &    226 &  0.001746 \\\\\n",
      "Documentation :: Sphinx                            &    225 &  0.001738 \\\\\n",
      "Software Development :: Widget Sets                &    220 &  0.001700 \\\\\n",
      "System :: Archiving :: Backup                      &    220 &  0.001700 \\\\\n",
      "Software Development :: Compilers                  &    215 &  0.001661 \\\\\n",
      "System :: Clustering                               &    208 &  0.001607 \\\\\n",
      "Multimedia :: Sound/Audio :: Players               &    207 &  0.001599 \\\\\n",
      "Artistic Software                                  &    204 &  0.001576 \\\\\n",
      "Desktop Environment                                &    196 &  0.001514 \\\\\n",
      "System :: Archiving                                &    196 &  0.001514 \\\\\n",
      "Internet :: Name Service (DNS)                     &    189 &  0.001460 \\\\\n",
      "Multimedia :: Graphics :: Graphics Conversion      &    189 &  0.001460 \\\\\n",
      "System :: Systems Administration :: Authenticat... &    188 &  0.001453 \\\\\n",
      "Scientific/Engineering :: Human Machine Interfaces &    187 &  0.001445 \\\\\n",
      "Software Development :: Interpreters               &    170 &  0.001313 \\\\\n",
      "Communications :: File Sharing                     &    166 &  0.001283 \\\\\n",
      "Software Development :: Bug Tracking               &    161 &  0.001244 \\\\\n",
      "Internet :: WWW/HTTP :: WSGI :: Server             &    156 &  0.001205 \\\\\n",
      "System :: Hardware :: Hardware Drivers             &    156 &  0.001205 \\\\\n",
      "Communications :: Chat :: Internet Relay Chat      &    153 &  0.001182 \\\\\n",
      "Office/Business :: Financial :: Investment         &    148 &  0.001143 \\\\\n",
      "Scientific/Engineering :: Interface Engine/Prot... &    146 &  0.001128 \\\\\n",
      "Software Development :: Internationalization       &    142 &  0.001097 \\\\\n",
      "System :: Archiving :: Packaging                   &    141 &  0.001089 \\\\\n",
      "Office/Business :: Scheduling                      &    139 &  0.001074 \\\\\n",
      "Multimedia :: Sound/Audio :: Analysis              &    135 &  0.001043 \\\\\n",
      "Software Development :: Object Brokering           &    135 &  0.001043 \\\\\n",
      "Multimedia :: Graphics :: Presentation             &    134 &  0.001035 \\\\\n",
      "Internet :: Proxy Servers                          &    134 &  0.001035 \\\\\n",
      "Internet :: WWW/HTTP :: Browsers                   &    132 &  0.001020 \\\\\n",
      "Software Development :: Localization               &    127 &  0.000981 \\\\\n",
      "Software Development :: Version Control :: Git     &    115 &  0.000889 \\\\\n",
      "Internet :: Log Analysis                           &    115 &  0.000889 \\\\\n",
      "Software Development :: Pre-processors             &    112 &  0.000865 \\\\\n",
      "Printing                                           &    111 &  0.000858 \\\\\n",
      "Communications :: Telephony                        &    106 &  0.000819 \\\\\n",
      "Multimedia :: Graphics :: 3D Rendering             &    105 &  0.000811 \\\\\n",
      "Text Editors                                       &    104 &  0.000804 \\\\\n",
      "Games/Entertainment :: Board Games                 &     97 &  0.000749 \\\\\n",
      "Multimedia :: Sound/Audio :: Speech                &     96 &  0.000742 \\\\\n",
      "Office/Business :: Financial :: Spreadsheet        &     96 &  0.000742 \\\\\n",
      "System :: Operating System                         &     94 &  0.000726 \\\\\n",
      "Scientific/Engineering :: Electronic Design Aut... &     92 &  0.000711 \\\\\n",
      "System :: Systems Administration :: Authenticat... &     90 &  0.000695 \\\\\n",
      "Adaptive Technologies                              &     87 &  0.000672 \\\\\n",
      "Education :: Testing                               &     87 &  0.000672 \\\\\n",
      "Multimedia :: Graphics :: Viewers                  &     87 &  0.000672 \\\\\n",
      "Multimedia :: Graphics :: 3D Modeling              &     86 &  0.000664 \\\\\n",
      "Text Processing :: Markup :: LaTeX                 &     85 &  0.000657 \\\\\n",
      "Text Processing :: Fonts                           &     84 &  0.000649 \\\\\n",
      "Software Development :: Testing :: Traffic Gene... &     82 &  0.000634 \\\\\n",
      "Multimedia :: Sound/Audio :: Conversion            &     79 &  0.000610 \\\\\n",
      "Office/Business :: Groupware                       &     78 &  0.000603 \\\\\n",
      "Internet :: WWW/HTTP :: Dynamic Content :: News... &     77 &  0.000595 \\\\\n",
      "System :: Archiving :: Compression                 &     77 &  0.000595 \\\\\n",
      "System :: Emulators                                &     75 &  0.000579 \\\\\n",
      "Games/Entertainment :: Puzzle Games                &     74 &  0.000572 \\\\\n",
      "Internet :: WWW/HTTP :: Session                    &     74 &  0.000572 \\\\\n",
      "Multimedia :: Video :: Conversion                  &     72 &  0.000556 \\\\\n",
      "Multimedia :: Video :: Display                     &     69 &  0.000533 \\\\\n",
      "System :: Operating System Kernels :: Linux        &     69 &  0.000533 \\\\\n",
      "Internet :: File Transfer Protocol (FTP)           &     67 &  0.000518 \\\\\n",
      "Text Editors :: Text Processing                    &     66 &  0.000510 \\\\\n",
      "System :: Benchmark                                &     65 &  0.000502 \\\\\n",
      "System :: Archiving :: Mirroring                   &     65 &  0.000502 \\\\\n",
      "Multimedia :: Sound/Audio :: Sound Synthesis       &     63 &  0.000487 \\\\\n",
      "System :: System Shells                            &     62 &  0.000479 \\\\\n",
      "Internet :: WWW/HTTP :: Dynamic Content :: Mess... &     62 &  0.000479 \\\\\n",
      "Text Editors :: Integrated Development Environm... &     61 &  0.000471 \\\\\n",
      "System :: Networking :: Firewalls                  &     60 &  0.000464 \\\\\n",
      "Games/Entertainment :: Simulation                  &     60 &  0.000464 \\\\\n",
      "Office/Business :: Office Suites                   &     59 &  0.000456 \\\\\n",
      "Software Development :: Libraries :: pygame        &     58 &  0.000448 \\\\\n",
      "Internet :: WWW/HTTP :: Site Management :: Link... &     58 &  0.000448 \\\\\n",
      "Games/Entertainment :: Role-Playing                &     55 &  0.000425 \\\\\n",
      "Desktop Environment :: File Managers               &     54 &  0.000417 \\\\\n",
      "Communications :: Email :: Filters                 &     54 &  0.000417 \\\\\n",
      "Communications :: Email :: Mail Transport Agents   &     54 &  0.000417 \\\\\n",
      "Software Development :: Disassemblers              &     52 &  0.000402 \\\\\n",
      "Terminals :: Terminal Emulators/X Terminals        &     50 &  0.000386 \\\\\n",
      "Education :: Computer Aided Instruction (CAI)      &     47 &  0.000363 \\\\\n",
      "Communications :: Ham Radio                        &     47 &  0.000363 \\\\\n",
      "Desktop Environment :: Gnome                       &     46 &  0.000355 \\\\\n",
      "Multimedia :: Sound/Audio :: Capture/Recording     &     46 &  0.000355 \\\\\n",
      "Software Development :: Assemblers                 &     44 &  0.000340 \\\\\n",
      "Multimedia :: Sound/Audio :: MIDI                  &     42 &  0.000324 \\\\\n",
      "Games/Entertainment :: Arcade                      &     42 &  0.000324 \\\\\n",
      "Multimedia :: Video :: Capture                     &     42 &  0.000324 \\\\\n",
      "Terminals :: Serial                                &     41 &  0.000317 \\\\\n",
      "Office/Business :: News/Diary                      &     41 &  0.000317 \\\\\n",
      "Multimedia :: Sound/Audio :: Players :: MP3        &     41 &  0.000317 \\\\\n",
      "Scientific/Engineering :: Artificial Life          &     41 &  0.000317 \\\\\n",
      "Office/Business :: Financial :: Point-Of-Sale      &     38 &  0.000294 \\\\\n",
      "Religion                                           &     37 &  0.000286 \\\\\n",
      "System :: Boot                                     &     36 &  0.000278 \\\\\n",
      "Games/Entertainment :: Real Time Strategy          &     36 &  0.000278 \\\\\n",
      "Sociology                                          &     35 &  0.000270 \\\\\n",
      "Multimedia :: Sound/Audio :: Editors               &     35 &  0.000270 \\\\\n",
      "System :: Recovery Tools                           &     34 &  0.000263 \\\\\n",
      "Multimedia :: Graphics :: Capture :: Digital Ca... &     33 &  0.000255 \\\\\n",
      "Desktop Environment :: Window Managers             &     33 &  0.000255 \\\\\n",
      "Multimedia :: Graphics :: Capture                  &     32 &  0.000247 \\\\\n",
      "Software Development :: Libraries :: Java Libra... &     31 &  0.000240 \\\\\n",
      "Communications :: Conferencing                     &     30 &  0.000232 \\\\\n",
      "Multimedia :: Graphics :: Editors :: Vector-Based  &     30 &  0.000232 \\\\\n",
      "Communications :: Internet Phone                   &     29 &  0.000224 \\\\\n",
      "Software Development :: Testing :: Unit            &     29 &  0.000224 \\\\\n",
      "Communications :: Email :: Email Clients (MUA)     &     26 &  0.000201 \\\\\n",
      "Text Editors :: Word Processors                    &     24 &  0.000185 \\\\\n",
      "Games/Entertainment :: Turn Based Strategy         &     24 &  0.000185 \\\\\n",
      "Text Editors :: Emacs                              &     23 &  0.000178 \\\\\n",
      "Communications :: Email :: Mailing List Servers    &     22 &  0.000170 \\\\\n",
      "Multimedia :: Sound/Audio :: Mixers                &     22 &  0.000170 \\\\\n",
      "Multimedia :: Graphics :: Editors                  &     21 &  0.000162 \\\\\n",
      "Multimedia :: Graphics :: Capture :: Screen Cap... &     20 &  0.000155 \\\\\n",
      "Multimedia :: Graphics :: Capture :: Scanners      &     19 &  0.000147 \\\\\n",
      "Communications :: Usenet News                      &     19 &  0.000147 \\\\\n",
      "Communications :: Email :: Post-Office :: IMAP     &     18 &  0.000139 \\\\\n",
      "Software Development :: Testing :: Mocking         &     17 &  0.000131 \\\\\n",
      "Communications :: BBS                              &     16 &  0.000124 \\\\\n",
      "System :: Boot :: Init                             &     16 &  0.000124 \\\\\n",
      "Games/Entertainment :: Multi-User Dungeons (MUD)   &     16 &  0.000124 \\\\\n",
      "Games/Entertainment :: First Person Shooters       &     16 &  0.000124 \\\\\n",
      "Communications :: Email :: Address Book            &     16 &  0.000124 \\\\\n",
      "Software Development :: Testing :: Acceptance      &     15 &  0.000116 \\\\\n",
      "Internet :: WWW/HTTP :: Dynamic Content :: Cont... &     14 &  0.000108 \\\\\n",
      "Terminals :: Telnet                                &     14 &  0.000108 \\\\\n",
      "Multimedia :: Video :: Non-Linear Editor           &     14 &  0.000108 \\\\\n",
      "Internet :: WWW/HTTP :: Dynamic Content :: Page... &     12 &  0.000093 \\\\\n",
      "System :: Operating System Kernels                 &     12 &  0.000093 \\\\\n",
      "System :: Hardware :: Symmetric Multi-processing   &     12 &  0.000093 \\\\\n",
      "Text Editors :: Documentation                      &     12 &  0.000093 \\\\\n",
      "Communications :: Email :: Post-Office :: POP3     &     12 &  0.000093 \\\\\n",
      "Games/Entertainment :: Side-Scrolling/Arcade Games &     11 &  0.000085 \\\\\n",
      "System :: Networking :: Monitoring :: Hardware ... &     10 &  0.000077 \\\\\n",
      "System :: Networking :: Time Synchronization       &     10 &  0.000077 \\\\\n",
      "Desktop Environment :: K Desktop Environment (KDE) &      9 &  0.000070 \\\\\n",
      "Sociology :: History                               &      9 &  0.000070 \\\\\n",
      "Internet :: XMPP                                   &      9 &  0.000070 \\\\\n",
      "Sociology :: Genealogy                             &      9 &  0.000070 \\\\\n",
      "Internet :: WWW/HTTP :: Dynamic Content :: Wiki    &      9 &  0.000070 \\\\\n",
      "Multimedia :: Sound/Audio :: CD Audio :: CD Rip... &      9 &  0.000070 \\\\\n",
      "Software Development :: Testing :: BDD             &      8 &  0.000062 \\\\\n",
      "Multimedia :: Graphics :: Editors :: Raster-Based  &      7 &  0.000054 \\\\\n",
      "System :: Power (UPS)                              &      7 &  0.000054 \\\\\n",
      "Internet :: Z39.50                                 &      7 &  0.000054 \\\\\n",
      "System :: Console Fonts                            &      6 &  0.000046 \\\\\n",
      "Games/Entertainment :: Fortune Cookies             &      6 &  0.000046 \\\\\n",
      "Text Processing :: Markup :: SGML                  &      6 &  0.000046 \\\\\n",
      "Software Development :: Libraries :: Ruby Modules  &      6 &  0.000046 \\\\\n",
      "Multimedia :: Sound/Audio :: CD Audio :: CD Pla... &      5 &  0.000039 \\\\\n",
      "Software Development :: Version Control :: CVS     &      5 &  0.000039 \\\\\n",
      "Communications :: Email :: Post-Office             &      4 &  0.000031 \\\\\n",
      "Desktop Environment :: Screen Savers               &      4 &  0.000031 \\\\\n",
      "Multimedia :: Sound/Audio :: CD Audio :: CD Wri... &      4 &  0.000031 \\\\\n",
      "Internet :: Finger                                 &      4 &  0.000031 \\\\\n",
      "Software Development :: Libraries :: Perl Modules  &      4 &  0.000031 \\\\\n",
      "Software Development :: Libraries :: PHP Classes   &      4 &  0.000031 \\\\\n",
      "System :: Hardware :: Mainframes                   &      3 &  0.000023 \\\\\n",
      "Software Development :: Libraries :: Tcl Extens... &      3 &  0.000023 \\\\\n",
      "Software Development :: Version Control :: RCS     &      3 &  0.000023 \\\\\n",
      "Multimedia :: Sound/Audio :: CD Audio              &      3 &  0.000023 \\\\\n",
      "Communications :: Fax                              &      3 &  0.000023 \\\\\n",
      "Internet :: WAP                                    &      2 &  0.000015 \\\\\n",
      "Communications :: File Sharing :: Gnutella         &      2 &  0.000015 \\\\\n",
      "Software Development :: Libraries :: Pike Modules  &      2 &  0.000015 \\\\\n",
      "Desktop Environment :: Window Managers :: XFCE     &      2 &  0.000015 \\\\\n",
      "Software Development :: Version Control :: Merc... &      1 &  0.000008 \\\\\n",
      "Text Processing :: Markup :: VRML                  &      1 &  0.000008 \\\\\n",
      "Desktop Environment :: Window Managers :: Fluxbox  &      1 &  0.000008 \\\\\n",
      "Software Development :: Version Control :: SCCS    &      1 &  0.000008 \\\\\n",
      "Software Development :: Version Control :: Bazaar  &      1 &  0.000008 \\\\\n",
      "Software Development :: Object Brokering :: CORBA  &      1 &  0.000008 \\\\\n",
      "System :: Operating System Kernels :: GNU Hurd     &      1 &  0.000008 \\\\\n",
      "\\bottomrule\n",
      "\\end{tabular}\n",
      "\n"
     ]
    }
   ],
   "source": [
    "topic_df = pd.read_sql_query(\"\"\"\n",
    "    SELECT pc.classification AS classification, COUNT(*) AS count\n",
    "    FROM ossld_pypipackageclassification ppc\n",
    "    JOIN ossld_pypiclassification pc ON ppc.pypi_classification_id = pc.id\n",
    "    WHERE pc.classification LIKE 'Topic%'\n",
    "    GROUP BY classification\n",
    "    ORDER BY count DESC\n",
    "    \"\"\", connection, index_col=\"classification\")\n",
    "topic_df = topic_df.sort_values(\"count\", ascending=False)\n",
    "topic_df.loc[:, \"percent\"] = topic_df[\"count\"] / topic_df[\"count\"].sum()\n",
    "topic_df.index = [s.replace(\"Topic :: \", \"\") for s in topic_df.index]\n",
    "print(topic_df.to_latex())"
   ]
  },
  {
   "cell_type": "code",
   "execution_count": 97,
   "metadata": {},
   "outputs": [
    {
     "name": "stdout",
     "output_type": "stream",
     "text": [
      "\\begin{tabular}{lrr}\n",
      "\\toprule\n",
      "{} &  count &   percent \\\\\n",
      "classification\\_l1      &        &           \\\\\n",
      "\\midrule\n",
      "Software Development   &  48887 &  0.377710 \\\\\n",
      "Internet               &  19883 &  0.153620 \\\\\n",
      "Scientific/Engineering &  16881 &  0.130426 \\\\\n",
      "Utilities              &  12106 &  0.093533 \\\\\n",
      "System                 &   9319 &  0.072000 \\\\\n",
      "Text Processing        &   4445 &  0.034343 \\\\\n",
      "Multimedia             &   3422 &  0.026439 \\\\\n",
      "Database               &   2615 &  0.020204 \\\\\n",
      "Communications         &   2518 &  0.019455 \\\\\n",
      "Office/Business        &   2110 &  0.016302 \\\\\n",
      "Security               &   1941 &  0.014997 \\\\\n",
      "Documentation          &   1062 &  0.008205 \\\\\n",
      "Games/Entertainment    &    951 &  0.007348 \\\\\n",
      "Education              &    932 &  0.007201 \\\\\n",
      "Terminals              &    583 &  0.004504 \\\\\n",
      "Home Automation        &    421 &  0.003253 \\\\\n",
      "Desktop Environment    &    345 &  0.002666 \\\\\n",
      "Text Editors           &    290 &  0.002241 \\\\\n",
      "Other/Nonlisted Topic  &    227 &  0.001754 \\\\\n",
      "Artistic Software      &    204 &  0.001576 \\\\\n",
      "Printing               &    111 &  0.000858 \\\\\n",
      "Adaptive Technologies  &     87 &  0.000672 \\\\\n",
      "Sociology              &     53 &  0.000409 \\\\\n",
      "Religion               &     37 &  0.000286 \\\\\n",
      "\\bottomrule\n",
      "\\end{tabular}\n",
      "\n"
     ]
    }
   ],
   "source": [
    "topic_df.loc[:, \"classification_l1\"] = [x.split(\"::\")[0].strip() for x in topic_df.index]\n",
    "topic_l1_df = topic_df.groupby(\"classification_l1\")[\"count\", \"percent\"].sum()\n",
    "topic_l1_df = topic_l1_df.sort_values(\"count\", ascending=False)\n",
    "print(topic_l1_df.to_latex())"
   ]
  },
  {
   "cell_type": "markdown",
   "metadata": {},
   "source": [
    "## Table 15: Subtopic - Software Development"
   ]
  },
  {
   "cell_type": "code",
   "execution_count": 98,
   "metadata": {},
   "outputs": [
    {
     "name": "stdout",
     "output_type": "stream",
     "text": [
      "\\begin{tabular}{lrr}\n",
      "\\toprule\n",
      "{} &  count &   percent \\\\\n",
      "\\midrule\n",
      "Libraries :: Python Modules         &  22700 &  0.524734 \\\\\n",
      "Libraries                           &   6781 &  0.156750 \\\\\n",
      "Build Tools                         &   4056 &  0.093759 \\\\\n",
      "Testing                             &   2489 &  0.057536 \\\\\n",
      "Libraries :: Application Frameworks &   1792 &  0.041424 \\\\\n",
      "Quality Assurance                   &    969 &  0.022399 \\\\\n",
      "User Interfaces                     &    681 &  0.015742 \\\\\n",
      "Documentation                       &    543 &  0.012552 \\\\\n",
      "Code Generators                     &    539 &  0.012460 \\\\\n",
      "Version Control                     &    434 &  0.010032 \\\\\n",
      "Embedded Systems                    &    264 &  0.006103 \\\\\n",
      "Debuggers                           &    248 &  0.005733 \\\\\n",
      "Widget Sets                         &    220 &  0.005086 \\\\\n",
      "Compilers                           &    215 &  0.004970 \\\\\n",
      "Interpreters                        &    170 &  0.003930 \\\\\n",
      "Bug Tracking                        &    161 &  0.003722 \\\\\n",
      "Internationalization                &    142 &  0.003282 \\\\\n",
      "Object Brokering                    &    135 &  0.003121 \\\\\n",
      "Localization                        &    127 &  0.002936 \\\\\n",
      "Version Control :: Git              &    115 &  0.002658 \\\\\n",
      "\\bottomrule\n",
      "\\end{tabular}\n",
      "\n"
     ]
    }
   ],
   "source": [
    "topic_df = pd.read_sql_query(\"\"\"\n",
    "    SELECT pc.classification AS classification, COUNT(*) AS count\n",
    "    FROM ossld_pypipackageclassification ppc\n",
    "    JOIN ossld_pypiclassification pc ON ppc.pypi_classification_id = pc.id\n",
    "    WHERE pc.classification LIKE 'Topic :: Software Development ::%'\n",
    "    GROUP BY classification\n",
    "    ORDER BY count DESC\n",
    "    \"\"\", connection, index_col=\"classification\")\n",
    "topic_df = topic_df.sort_values(\"count\", ascending=False)\n",
    "topic_df.loc[:, \"percent\"] = topic_df[\"count\"] / topic_df[\"count\"].sum()\n",
    "topic_df.index = [s.replace(\"Topic :: Software Development :: \", \"\") for s in topic_df.index]\n",
    "print(topic_df.head(20).to_latex())"
   ]
  },
  {
   "cell_type": "markdown",
   "metadata": {},
   "source": [
    "## Table 16: Subtopic - Scientific/Engineering"
   ]
  },
  {
   "cell_type": "code",
   "execution_count": 99,
   "metadata": {},
   "outputs": [
    {
     "name": "stdout",
     "output_type": "stream",
     "text": [
      "\\begin{tabular}{lrr}\n",
      "\\toprule\n",
      "{} &  count &   percent \\\\\n",
      "\\midrule\n",
      "Bio-Informatics                      &   2050 &  0.170068 \\\\\n",
      "Artificial Intelligence              &   1614 &  0.133897 \\\\\n",
      "Mathematics                          &   1582 &  0.131243 \\\\\n",
      "Information Analysis                 &   1574 &  0.130579 \\\\\n",
      "Physics                              &   1253 &  0.103949 \\\\\n",
      "Visualization                        &    979 &  0.081218 \\\\\n",
      "Astronomy                            &    624 &  0.051767 \\\\\n",
      "GIS                                  &    578 &  0.047951 \\\\\n",
      "Chemistry                            &    444 &  0.036834 \\\\\n",
      "Medical Science Apps.                &    415 &  0.034428 \\\\\n",
      "Image Recognition                    &    239 &  0.019827 \\\\\n",
      "Atmospheric Science                  &    236 &  0.019579 \\\\\n",
      "Human Machine Interfaces             &    187 &  0.015514 \\\\\n",
      "Interface Engine/Protocol Translator &    146 &  0.012112 \\\\\n",
      "Electronic Design Automation (EDA)   &     92 &  0.007632 \\\\\n",
      "Artificial Life                      &     41 &  0.003401 \\\\\n",
      "\\bottomrule\n",
      "\\end{tabular}\n",
      "\n"
     ]
    }
   ],
   "source": [
    "topic_df = pd.read_sql_query(\"\"\"\n",
    "    SELECT pc.classification AS classification, COUNT(*) AS count\n",
    "    FROM ossld_pypipackageclassification ppc\n",
    "    JOIN ossld_pypiclassification pc ON ppc.pypi_classification_id = pc.id\n",
    "    WHERE pc.classification LIKE 'Topic :: Scientific/Engineering ::%'\n",
    "    GROUP BY classification\n",
    "    ORDER BY count DESC\n",
    "    \"\"\", connection, index_col=\"classification\")\n",
    "topic_df = topic_df.sort_values(\"count\", ascending=False)\n",
    "topic_df.loc[:, \"percent\"] = topic_df[\"count\"] / topic_df[\"count\"].sum()\n",
    "topic_df.index = [s.replace(\"Topic :: Scientific/Engineering :: \", \"\") for s in topic_df.index]\n",
    "print(topic_df.head(20).to_latex())"
   ]
  },
  {
   "cell_type": "markdown",
   "metadata": {},
   "source": [
    "## Number of import statements per year"
   ]
  },
  {
   "cell_type": "code",
   "execution_count": 53,
   "metadata": {},
   "outputs": [
    {
     "name": "stdout",
     "output_type": "stream",
     "text": [
      "2005\n",
      "2006\n",
      "2007\n",
      "2008\n",
      "2009\n",
      "2010\n",
      "2011\n",
      "2012\n",
      "2013\n",
      "2014\n",
      "2015\n",
      "2016\n",
      "2017\n",
      "2018\n",
      "2019\n",
      "\\begin{tabular}{lr}\n",
      "\\toprule\n",
      "{} &     count \\\\\n",
      "year &           \\\\\n",
      "\\midrule\n",
      "2005 &     26756 \\\\\n",
      "2006 &     91896 \\\\\n",
      "2007 &    188050 \\\\\n",
      "2008 &    459461 \\\\\n",
      "2009 &   1015681 \\\\\n",
      "2010 &   1520202 \\\\\n",
      "2011 &   2335051 \\\\\n",
      "2012 &   3552860 \\\\\n",
      "2013 &   6837532 \\\\\n",
      "2014 &  10864275 \\\\\n",
      "2015 &  15716157 \\\\\n",
      "2016 &  25696479 \\\\\n",
      "2017 &  36932209 \\\\\n",
      "2018 &  47745271 \\\\\n",
      "2019 &   3834870 \\\\\n",
      "\\bottomrule\n",
      "\\end{tabular}\n",
      "\n"
     ]
    }
   ],
   "source": [
    "import_year_frequency_list = []\n",
    "\n",
    "for start_year in range(2005, 2020):\n",
    "    print(start_year)\n",
    "    query_df = pd.read_sql_query(\"\"\"\n",
    "        SELECT \n",
    "        --EXTRACT(YEAR FROM ppr.upload_time) AS release_year, ppri.import_name\n",
    "        COUNT(*)\n",
    "        FROM ossld_pypipackagereleaseimport ppri\n",
    "        JOIN ossld_pypipackagerelease ppr ON ppri.pypi_package_release_id = ppr.id\n",
    "        WHERE ppr.upload_time BETWEEN '{0}-01-01' AND '{1}-01-01'\n",
    "        \"\"\".format(start_year, start_year+1), connection)\n",
    "    import_year_frequency_list.append((start_year, query_df.iloc[0, 0]))\n",
    "    \n",
    "import_year_frequency_df = pd.DataFrame(import_year_frequency_list, columns=[\"year\", \"count\"])\n",
    "import_year_frequency_df.loc[:, \"count\"] = import_year_frequency_df[\"count\"].astype(int)\n",
    "import_year_frequency_df.set_index(\"year\", drop=True, inplace=True)\n",
    "print(import_year_frequency_df.to_latex())"
   ]
  },
  {
   "cell_type": "code",
   "execution_count": 54,
   "metadata": {},
   "outputs": [
    {
     "name": "stdout",
     "output_type": "stream",
     "text": [
      "New import CAGR: 0.6176885225732587\n"
     ]
    }
   ],
   "source": [
    "# calculate CAGR for new import statements\n",
    "start_year = 2006\n",
    "end_year = 2018\n",
    "\n",
    "new_import_cagr = np.exp((np.log(import_year_frequency_df.loc[end_year, \"count\"]) - np.log(import_year_frequency_df.loc[start_year, \"count\"])) / (end_year - start_year + 1)) - 1\n",
    "print(\"New import CAGR:\", new_import_cagr)"
   ]
  },
  {
   "cell_type": "code",
   "execution_count": null,
   "metadata": {},
   "outputs": [],
   "source": []
  }
 ],
 "metadata": {
  "kernelspec": {
   "display_name": "Python 3",
   "language": "python",
   "name": "python3"
  },
  "language_info": {
   "codemirror_mode": {
    "name": "ipython",
    "version": 3
   },
   "file_extension": ".py",
   "mimetype": "text/x-python",
   "name": "python",
   "nbconvert_exporter": "python",
   "pygments_lexer": "ipython3",
   "version": "3.6.7"
  }
 },
 "nbformat": 4,
 "nbformat_minor": 2
}
